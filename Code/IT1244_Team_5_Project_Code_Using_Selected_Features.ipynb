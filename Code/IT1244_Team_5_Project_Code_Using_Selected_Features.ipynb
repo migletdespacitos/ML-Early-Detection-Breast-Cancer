{
  "nbformat": 4,
  "nbformat_minor": 0,
  "metadata": {
    "colab": {
      "provenance": []
    },
    "kernelspec": {
      "name": "python3",
      "display_name": "Python 3"
    },
    "language_info": {
      "name": "python"
    }
  },
  "cells": [
    {
      "cell_type": "code",
      "execution_count": 16,
      "metadata": {
        "id": "KiM9nYFHGb4d"
      },
      "outputs": [],
      "source": [
        "import csv\n",
        "import numpy as np\n",
        "from sklearn.neighbors import KNeighborsClassifier\n",
        "from sklearn.linear_model import LogisticRegression\n",
        "from sklearn.model_selection import train_test_split\n",
        "from sklearn.metrics import confusion_matrix\n",
        "from sklearn.metrics import accuracy_score\n",
        "from sklearn.metrics import precision_score\n",
        "from sklearn.metrics import recall_score\n",
        "from sklearn.preprocessing import StandardScaler\n",
        "from sklearn.metrics import mean_absolute_error\n",
        "from sklearn.metrics import recall_score\n",
        "from sklearn.metrics import ConfusionMatrixDisplay\n",
        "import tensorflow as tf\n",
        "from tensorflow import keras\n",
        "from sklearn.model_selection import KFold\n",
        "import matplotlib.pyplot as plt"
      ]
    },
    {
      "cell_type": "markdown",
      "source": [
        "# **IT1244 Project: Breast Cancer Classification**\n",
        "\n",
        "**Objective:**\n",
        "The objective of this project is to effectively identify whether a patient is suffering from Breast Cancer using Machine Learning Algorithms\n",
        "\n",
        "The dataset:\n",
        "[Breast Cancer Dataset](https://drive.google.com/file/d/1kr0sCKIRcXrPWwSgcMvfnaTL838sE9h-/view?usp=share_link)"
      ],
      "metadata": {
        "id": "DpC_ZtabGwWo"
      }
    },
    {
      "cell_type": "markdown",
      "source": [
        "# **Load Dataset**"
      ],
      "metadata": {
        "id": "yIB8R1APG1Y1"
      }
    },
    {
      "cell_type": "code",
      "source": [
        "#CSV reader function to read the dataset file\n",
        "def read_csv(filename):\n",
        "    rows = []\n",
        "    with open(filename) as csvfile:\n",
        "        file_reader = csv.reader(csvfile)\n",
        "        for row in file_reader:\n",
        "            rows.append(row)\n",
        "    return rows"
      ],
      "metadata": {
        "id": "6nuR4UsWG31W"
      },
      "execution_count": 2,
      "outputs": []
    },
    {
      "cell_type": "markdown",
      "source": [
        "When you run this code, the attributes in the dataset will be extracted from the csv file and stored in the variables below:"
      ],
      "metadata": {
        "id": "BNpNMa-xG6v6"
      }
    },
    {
      "cell_type": "code",
      "source": [
        "headers = read_csv('data.csv')[0] #list that contains the different headers of of the dataset\n",
        "data = read_csv('data.csv')[1:] #list of lists that contains the different attributes of each patient in the dataset"
      ],
      "metadata": {
        "id": "6tLoAJfmG85t"
      },
      "execution_count": 3,
      "outputs": []
    },
    {
      "cell_type": "markdown",
      "source": [
        "#**Filtering Out Relevant Data from the Dataset**"
      ],
      "metadata": {
        "id": "9Mi079F0HAHU"
      }
    },
    {
      "cell_type": "code",
      "source": [
        "#list of headers of relevant attributes\n",
        "r_data_head = ['radius', 'texture', 'perimalignanteter', 'area', 'comalignantpactness_malignantean', 'concavity', 'point_concavity', 'smalignantoothness_malignantean', 'dimalignant_fractal']\n",
        "\n",
        "head_result = ['diagnosis'] #header of data containing diagnosis of each patient\n",
        "\n",
        "#function to create an array that can be used to filter out the relevant headers\n",
        "def relevant_header_selection(header, y):\n",
        "    lst = []\n",
        "    for i in header:\n",
        "        if i in y:\n",
        "            lst.append(True)\n",
        "        else:\n",
        "            lst.append(False)\n",
        "    return np.array(lst)\n",
        "\n",
        "#function to extract relevant data attributes from the raw dataset\n",
        "def relevant_data(data, selector):\n",
        "    x = np.array(data)\n",
        "    return x[:, selector]\n",
        "\n",
        "#function to convert the diagnosis into binary: 1 for malignant and 0 for benign\n",
        "def binary_conversion(data):\n",
        "    lst = []\n",
        "    for i in data:\n",
        "        if i == 'benign':\n",
        "            lst.append(0)\n",
        "        elif i == 'malignant':\n",
        "            lst.append(1)\n",
        "    return np.array(lst)"
      ],
      "metadata": {
        "id": "qAI7vOrxHCDZ"
      },
      "execution_count": 4,
      "outputs": []
    },
    {
      "cell_type": "markdown",
      "source": [
        "When you run this code, the relevant data will be stored in the variables below:"
      ],
      "metadata": {
        "id": "DbSzdX7eHR6D"
      }
    },
    {
      "cell_type": "code",
      "source": [
        "hd_selector = relevant_header_selection(headers, r_data_head)\n",
        "\n",
        "result_index = relevant_header_selection(headers, head_result)\n",
        "result_array = relevant_data(data, result_index)\n",
        "result = binary_conversion(result_array)\n",
        "\n",
        "rdata = relevant_data(data, hd_selector)"
      ],
      "metadata": {
        "id": "1zx_tozgHUUz"
      },
      "execution_count": 5,
      "outputs": []
    },
    {
      "cell_type": "markdown",
      "source": [
        "# **Standardising Data**"
      ],
      "metadata": {
        "id": "hNbkoBsiHW_l"
      }
    },
    {
      "cell_type": "code",
      "source": [
        "#function to standardize the dataset\n",
        "def Standardize(data):\n",
        "    std = StandardScaler()\n",
        "    x = std.fit_transform(data)\n",
        "    return x"
      ],
      "metadata": {
        "id": "VjIULd1BHZvk"
      },
      "execution_count": 6,
      "outputs": []
    },
    {
      "cell_type": "markdown",
      "source": [
        "When you run this code, the relevant data will be standardised and stored in the vairable below:"
      ],
      "metadata": {
        "id": "82Qu_EkDHb2K"
      }
    },
    {
      "cell_type": "code",
      "source": [
        "std_data = Standardize(rdata)"
      ],
      "metadata": {
        "id": "JxReCl1KHd_k"
      },
      "execution_count": 8,
      "outputs": []
    },
    {
      "cell_type": "markdown",
      "source": [
        "# **Confusion Matrix Visualizer**"
      ],
      "metadata": {
        "id": "G42gsrEjHgZ8"
      }
    },
    {
      "cell_type": "code",
      "source": [
        "def visualise_cm(pred, test):\n",
        "    cm = confusion_matrix(test, pred)\n",
        "    cm_disp = ConfusionMatrixDisplay(confusion_matrix=cm, display_labels=['benign', 'malignant'])\n",
        "    cm_disp.plot()\n",
        "    plt.show()"
      ],
      "metadata": {
        "id": "PpgLMsn-jWjc"
      },
      "execution_count": 7,
      "outputs": []
    },
    {
      "cell_type": "markdown",
      "source": [
        "# **Split Dataset into Training and Testing Sets**\n",
        "\n"
      ],
      "metadata": {
        "id": "ZLjJo7pi1LWX"
      }
    },
    {
      "cell_type": "markdown",
      "source": [
        "When you run this code, the standardised dataset will be split into Training and Testing Sets, with the Testing Set containg 25% of the total dataset:"
      ],
      "metadata": {
        "id": "vCK4Mrmm1bV2"
      }
    },
    {
      "cell_type": "code",
      "source": [
        "X_train, X_test, Y_train, Y_test = train_test_split(std_data, result, test_size=0.25, random_state=0) #splits dataset into training and testing sets"
      ],
      "metadata": {
        "id": "951K7_s41Z-2"
      },
      "execution_count": 23,
      "outputs": []
    },
    {
      "cell_type": "markdown",
      "source": [
        "# **Logistic Regression Model**"
      ],
      "metadata": {
        "id": "bt5qzYZnjYiM"
      }
    },
    {
      "cell_type": "markdown",
      "source": [
        "When you run the code below, the sklearn LogisticRegression function will be implemented and train using the training dataset. It will then predict, based on the testing dataset, whether a patient has breast cancer:"
      ],
      "metadata": {
        "id": "32jZls8Ejb0x"
      }
    },
    {
      "cell_type": "code",
      "source": [
        "#Logistic Regression Model\n",
        "LR = LogisticRegression()\n",
        "\n",
        "LR.fit(X_train, Y_train)"
      ],
      "metadata": {
        "colab": {
          "base_uri": "https://localhost:8080/",
          "height": 51
        },
        "id": "Ly5eNMO2jerk",
        "outputId": "4110d6d7-9077-4576-9e2e-3a48892cacbe"
      },
      "execution_count": 30,
      "outputs": [
        {
          "output_type": "execute_result",
          "data": {
            "text/plain": [
              "LogisticRegression()"
            ],
            "text/html": [
              "<style>#sk-container-id-1 {color: black;background-color: white;}#sk-container-id-1 pre{padding: 0;}#sk-container-id-1 div.sk-toggleable {background-color: white;}#sk-container-id-1 label.sk-toggleable__label {cursor: pointer;display: block;width: 100%;margin-bottom: 0;padding: 0.3em;box-sizing: border-box;text-align: center;}#sk-container-id-1 label.sk-toggleable__label-arrow:before {content: \"▸\";float: left;margin-right: 0.25em;color: #696969;}#sk-container-id-1 label.sk-toggleable__label-arrow:hover:before {color: black;}#sk-container-id-1 div.sk-estimator:hover label.sk-toggleable__label-arrow:before {color: black;}#sk-container-id-1 div.sk-toggleable__content {max-height: 0;max-width: 0;overflow: hidden;text-align: left;background-color: #f0f8ff;}#sk-container-id-1 div.sk-toggleable__content pre {margin: 0.2em;color: black;border-radius: 0.25em;background-color: #f0f8ff;}#sk-container-id-1 input.sk-toggleable__control:checked~div.sk-toggleable__content {max-height: 200px;max-width: 100%;overflow: auto;}#sk-container-id-1 input.sk-toggleable__control:checked~label.sk-toggleable__label-arrow:before {content: \"▾\";}#sk-container-id-1 div.sk-estimator input.sk-toggleable__control:checked~label.sk-toggleable__label {background-color: #d4ebff;}#sk-container-id-1 div.sk-label input.sk-toggleable__control:checked~label.sk-toggleable__label {background-color: #d4ebff;}#sk-container-id-1 input.sk-hidden--visually {border: 0;clip: rect(1px 1px 1px 1px);clip: rect(1px, 1px, 1px, 1px);height: 1px;margin: -1px;overflow: hidden;padding: 0;position: absolute;width: 1px;}#sk-container-id-1 div.sk-estimator {font-family: monospace;background-color: #f0f8ff;border: 1px dotted black;border-radius: 0.25em;box-sizing: border-box;margin-bottom: 0.5em;}#sk-container-id-1 div.sk-estimator:hover {background-color: #d4ebff;}#sk-container-id-1 div.sk-parallel-item::after {content: \"\";width: 100%;border-bottom: 1px solid gray;flex-grow: 1;}#sk-container-id-1 div.sk-label:hover label.sk-toggleable__label {background-color: #d4ebff;}#sk-container-id-1 div.sk-serial::before {content: \"\";position: absolute;border-left: 1px solid gray;box-sizing: border-box;top: 0;bottom: 0;left: 50%;z-index: 0;}#sk-container-id-1 div.sk-serial {display: flex;flex-direction: column;align-items: center;background-color: white;padding-right: 0.2em;padding-left: 0.2em;position: relative;}#sk-container-id-1 div.sk-item {position: relative;z-index: 1;}#sk-container-id-1 div.sk-parallel {display: flex;align-items: stretch;justify-content: center;background-color: white;position: relative;}#sk-container-id-1 div.sk-item::before, #sk-container-id-1 div.sk-parallel-item::before {content: \"\";position: absolute;border-left: 1px solid gray;box-sizing: border-box;top: 0;bottom: 0;left: 50%;z-index: -1;}#sk-container-id-1 div.sk-parallel-item {display: flex;flex-direction: column;z-index: 1;position: relative;background-color: white;}#sk-container-id-1 div.sk-parallel-item:first-child::after {align-self: flex-end;width: 50%;}#sk-container-id-1 div.sk-parallel-item:last-child::after {align-self: flex-start;width: 50%;}#sk-container-id-1 div.sk-parallel-item:only-child::after {width: 0;}#sk-container-id-1 div.sk-dashed-wrapped {border: 1px dashed gray;margin: 0 0.4em 0.5em 0.4em;box-sizing: border-box;padding-bottom: 0.4em;background-color: white;}#sk-container-id-1 div.sk-label label {font-family: monospace;font-weight: bold;display: inline-block;line-height: 1.2em;}#sk-container-id-1 div.sk-label-container {text-align: center;}#sk-container-id-1 div.sk-container {/* jupyter's `normalize.less` sets `[hidden] { display: none; }` but bootstrap.min.css set `[hidden] { display: none !important; }` so we also need the `!important` here to be able to override the default hidden behavior on the sphinx rendered scikit-learn.org. See: https://github.com/scikit-learn/scikit-learn/issues/21755 */display: inline-block !important;position: relative;}#sk-container-id-1 div.sk-text-repr-fallback {display: none;}</style><div id=\"sk-container-id-1\" class=\"sk-top-container\"><div class=\"sk-text-repr-fallback\"><pre>LogisticRegression()</pre><b>In a Jupyter environment, please rerun this cell to show the HTML representation or trust the notebook. <br />On GitHub, the HTML representation is unable to render, please try loading this page with nbviewer.org.</b></div><div class=\"sk-container\" hidden><div class=\"sk-item\"><div class=\"sk-estimator sk-toggleable\"><input class=\"sk-toggleable__control sk-hidden--visually\" id=\"sk-estimator-id-1\" type=\"checkbox\" checked><label for=\"sk-estimator-id-1\" class=\"sk-toggleable__label sk-toggleable__label-arrow\">LogisticRegression</label><div class=\"sk-toggleable__content\"><pre>LogisticRegression()</pre></div></div></div></div></div>"
            ]
          },
          "metadata": {},
          "execution_count": 30
        }
      ]
    },
    {
      "cell_type": "markdown",
      "source": [
        "When you run the code below, the model is tested on the testing set and shows the visual representation of the confusion matrix as well as the prediction score"
      ],
      "metadata": {
        "id": "Up9TycEx52cf"
      }
    },
    {
      "cell_type": "code",
      "source": [
        "LR_pred = LR.predict(X_test)\n",
        "\n",
        "print(\"Prediction Score of Logistic Regression Model tested on Testing Set:\", accuracy_score(Y_test, LR_pred))\n",
        "print(visualise_cm(LR_pred, Y_test))"
      ],
      "metadata": {
        "colab": {
          "base_uri": "https://localhost:8080/",
          "height": 484
        },
        "id": "h5MOLCXF56YL",
        "outputId": "7ac8f674-6e1e-4e4c-d444-63c337ca0c9a"
      },
      "execution_count": 44,
      "outputs": [
        {
          "output_type": "stream",
          "name": "stdout",
          "text": [
            "Prediction Score of Logistic Regression Model tested on Testing Set: 0.951048951048951\n"
          ]
        },
        {
          "output_type": "display_data",
          "data": {
            "text/plain": [
              "<Figure size 640x480 with 2 Axes>"
            ],
            "image/png": "[encoded data removed]"
          },
          "metadata": {}
        },
        {
          "output_type": "stream",
          "name": "stdout",
          "text": [
            "None\n"
          ]
        }
      ]
    },
    {
      "cell_type": "markdown",
      "source": [
        "# **Evaluator Function**"
      ],
      "metadata": {
        "id": "PWPh2dEE5xWb"
      }
    },
    {
      "cell_type": "code",
      "source": [
        "def lr_evaluator(X, Y, model):\n",
        "    kf = KFold(10, shuffle=True, random_state=1)\n",
        "    pred = np.array([])\n",
        "    actual = np.array([])\n",
        "    accuracy = np.array([])\n",
        "    precision = np.array([])\n",
        "    recall = np.array([])\n",
        "    for train, test in kf.split(X):\n",
        "        x_train, y_train, x_test, y_test = X[train], Y[train], X[test], Y[test]\n",
        "        model.fit(x_train, y_train)\n",
        "        pred_i = model.predict(x_test)\n",
        "        pred = np.append(pred, pred_i)\n",
        "        actual = np.append(actual, y_test)\n",
        "        accuracy = np.append(accuracy, [accuracy_score(y_test, pred_i)])\n",
        "        precision = np.append(precision, [precision_score(y_test, pred_i)])\n",
        "        recall = np.append(recall, [recall_score(y_test, pred_i)])\n",
        "    return pred, actual, accuracy, precision, recall"
      ],
      "metadata": {
        "id": "TqDSkbka50Yv"
      },
      "execution_count": 32,
      "outputs": []
    },
    {
      "cell_type": "markdown",
      "source": [
        "When you run the code below, you will get the Confusion Matrix after 10-Fold Cross Validation as well as the average metric scores:"
      ],
      "metadata": {
        "id": "6bqTtdtojih3"
      }
    },
    {
      "cell_type": "code",
      "source": [
        "pred_LR, actual_LR, accuracy_LR, precision_LR, recall_LR = lr_evaluator(X_train, Y_train, LR)\n",
        "\n",
        "print(visualise_cm(pred_LR, actual_LR))\n",
        "print(\"Average Accuracy Score after 10-fold Cross Validation for Logistic Regression:\", accuracy_LR.mean())\n",
        "print(\"Average Precision Score after 10-fold Cross Validation for Logistic Regression:\", precision_LR.mean())\n",
        "print(\"Average Recall Score after 10-fold Cross Validation for Logistic Regression:\", recall_LR.mean())"
      ],
      "metadata": {
        "colab": {
          "base_uri": "https://localhost:8080/",
          "height": 518
        },
        "id": "CRPBscjJjkkL",
        "outputId": "8c3a8cbe-ed0b-4cbf-f79b-0cc6c1f6c217"
      },
      "execution_count": 33,
      "outputs": [
        {
          "output_type": "display_data",
          "data": {
            "text/plain": [
              "<Figure size 640x480 with 2 Axes>"
            ],
            "image/png": "[encoded data removed]"
          },
          "metadata": {}
        },
        {
          "output_type": "stream",
          "name": "stdout",
          "text": [
            "None\n",
            "Average Accuracy Score after 10-fold Cross Validation for Logistic Regression: 0.9342746400885936\n",
            "Average Precision Score after 10-fold Cross Validation for Logistic Regression: 0.9262557153888423\n",
            "Average Recall Score after 10-fold Cross Validation for Logistic Regression: 0.89356436691963\n"
          ]
        }
      ]
    },
    {
      "cell_type": "markdown",
      "source": [
        "# **k-nearest Neighbors Model**"
      ],
      "metadata": {
        "id": "kMETIy_sjngB"
      }
    },
    {
      "cell_type": "markdown",
      "source": [
        "When you run the code below, the sklearn KNeighborsClassifier function will be implemented and train using the training dataset. It will then predict, based on the testing dataset, whether a patient has breast cancer:"
      ],
      "metadata": {
        "id": "eArGQkF-jpBs"
      }
    },
    {
      "cell_type": "code",
      "source": [
        "# function to find the optimal k value for k-nearest neighbors algorithm\n",
        "def k_finder(X_test, Y_test, X_train, Y_train):\n",
        "    error = []\n",
        "    for i in range(1, len(X_test)):\n",
        "        knn = KNeighborsClassifier(n_neighbors=i)\n",
        "        knn.fit(X_train, Y_train)\n",
        "        pred = knn.predict(X_test)\n",
        "        e = mean_absolute_error(Y_test, pred)\n",
        "        error.append(e)\n",
        "    return np.array(error).argmin() + 1\n",
        "\n",
        "#KNN Model\n",
        "knn = KNeighborsClassifier(n_neighbors=k_finder(X_test, Y_test, X_train, Y_train))\n",
        "\n",
        "knn.fit(X_train, Y_train)"
      ],
      "metadata": {
        "colab": {
          "base_uri": "https://localhost:8080/",
          "height": 51
        },
        "id": "oYz2e0fSjrxP",
        "outputId": "cf020ce8-2d0b-4049-8573-78e939533cb6"
      },
      "execution_count": 34,
      "outputs": [
        {
          "output_type": "execute_result",
          "data": {
            "text/plain": [
              "KNeighborsClassifier(n_neighbors=2)"
            ],
            "text/html": [
              "<style>#sk-container-id-2 {color: black;background-color: white;}#sk-container-id-2 pre{padding: 0;}#sk-container-id-2 div.sk-toggleable {background-color: white;}#sk-container-id-2 label.sk-toggleable__label {cursor: pointer;display: block;width: 100%;margin-bottom: 0;padding: 0.3em;box-sizing: border-box;text-align: center;}#sk-container-id-2 label.sk-toggleable__label-arrow:before {content: \"▸\";float: left;margin-right: 0.25em;color: #696969;}#sk-container-id-2 label.sk-toggleable__label-arrow:hover:before {color: black;}#sk-container-id-2 div.sk-estimator:hover label.sk-toggleable__label-arrow:before {color: black;}#sk-container-id-2 div.sk-toggleable__content {max-height: 0;max-width: 0;overflow: hidden;text-align: left;background-color: #f0f8ff;}#sk-container-id-2 div.sk-toggleable__content pre {margin: 0.2em;color: black;border-radius: 0.25em;background-color: #f0f8ff;}#sk-container-id-2 input.sk-toggleable__control:checked~div.sk-toggleable__content {max-height: 200px;max-width: 100%;overflow: auto;}#sk-container-id-2 input.sk-toggleable__control:checked~label.sk-toggleable__label-arrow:before {content: \"▾\";}#sk-container-id-2 div.sk-estimator input.sk-toggleable__control:checked~label.sk-toggleable__label {background-color: #d4ebff;}#sk-container-id-2 div.sk-label input.sk-toggleable__control:checked~label.sk-toggleable__label {background-color: #d4ebff;}#sk-container-id-2 input.sk-hidden--visually {border: 0;clip: rect(1px 1px 1px 1px);clip: rect(1px, 1px, 1px, 1px);height: 1px;margin: -1px;overflow: hidden;padding: 0;position: absolute;width: 1px;}#sk-container-id-2 div.sk-estimator {font-family: monospace;background-color: #f0f8ff;border: 1px dotted black;border-radius: 0.25em;box-sizing: border-box;margin-bottom: 0.5em;}#sk-container-id-2 div.sk-estimator:hover {background-color: #d4ebff;}#sk-container-id-2 div.sk-parallel-item::after {content: \"\";width: 100%;border-bottom: 1px solid gray;flex-grow: 1;}#sk-container-id-2 div.sk-label:hover label.sk-toggleable__label {background-color: #d4ebff;}#sk-container-id-2 div.sk-serial::before {content: \"\";position: absolute;border-left: 1px solid gray;box-sizing: border-box;top: 0;bottom: 0;left: 50%;z-index: 0;}#sk-container-id-2 div.sk-serial {display: flex;flex-direction: column;align-items: center;background-color: white;padding-right: 0.2em;padding-left: 0.2em;position: relative;}#sk-container-id-2 div.sk-item {position: relative;z-index: 1;}#sk-container-id-2 div.sk-parallel {display: flex;align-items: stretch;justify-content: center;background-color: white;position: relative;}#sk-container-id-2 div.sk-item::before, #sk-container-id-2 div.sk-parallel-item::before {content: \"\";position: absolute;border-left: 1px solid gray;box-sizing: border-box;top: 0;bottom: 0;left: 50%;z-index: -1;}#sk-container-id-2 div.sk-parallel-item {display: flex;flex-direction: column;z-index: 1;position: relative;background-color: white;}#sk-container-id-2 div.sk-parallel-item:first-child::after {align-self: flex-end;width: 50%;}#sk-container-id-2 div.sk-parallel-item:last-child::after {align-self: flex-start;width: 50%;}#sk-container-id-2 div.sk-parallel-item:only-child::after {width: 0;}#sk-container-id-2 div.sk-dashed-wrapped {border: 1px dashed gray;margin: 0 0.4em 0.5em 0.4em;box-sizing: border-box;padding-bottom: 0.4em;background-color: white;}#sk-container-id-2 div.sk-label label {font-family: monospace;font-weight: bold;display: inline-block;line-height: 1.2em;}#sk-container-id-2 div.sk-label-container {text-align: center;}#sk-container-id-2 div.sk-container {/* jupyter's `normalize.less` sets `[hidden] { display: none; }` but bootstrap.min.css set `[hidden] { display: none !important; }` so we also need the `!important` here to be able to override the default hidden behavior on the sphinx rendered scikit-learn.org. See: https://github.com/scikit-learn/scikit-learn/issues/21755 */display: inline-block !important;position: relative;}#sk-container-id-2 div.sk-text-repr-fallback {display: none;}</style><div id=\"sk-container-id-2\" class=\"sk-top-container\"><div class=\"sk-text-repr-fallback\"><pre>KNeighborsClassifier(n_neighbors=2)</pre><b>In a Jupyter environment, please rerun this cell to show the HTML representation or trust the notebook. <br />On GitHub, the HTML representation is unable to render, please try loading this page with nbviewer.org.</b></div><div class=\"sk-container\" hidden><div class=\"sk-item\"><div class=\"sk-estimator sk-toggleable\"><input class=\"sk-toggleable__control sk-hidden--visually\" id=\"sk-estimator-id-2\" type=\"checkbox\" checked><label for=\"sk-estimator-id-2\" class=\"sk-toggleable__label sk-toggleable__label-arrow\">KNeighborsClassifier</label><div class=\"sk-toggleable__content\"><pre>KNeighborsClassifier(n_neighbors=2)</pre></div></div></div></div></div>"
            ]
          },
          "metadata": {},
          "execution_count": 34
        }
      ]
    },
    {
      "cell_type": "markdown",
      "source": [
        "When you run the code below, the model is tested on the testing set and shows the visual representation of the confusion matrix as well as the prediction score"
      ],
      "metadata": {
        "id": "3S7hPiD35gtG"
      }
    },
    {
      "cell_type": "code",
      "source": [
        "knn_pred = knn.predict(X_test)\n",
        "\n",
        "print(\"Prediction Score of KNN Model tested on Testing Set:\", accuracy_score(Y_test, knn_pred))\n",
        "print(visualise_cm(knn_pred, Y_test))"
      ],
      "metadata": {
        "colab": {
          "base_uri": "https://localhost:8080/",
          "height": 484
        },
        "id": "NtxVC3mQ5hkv",
        "outputId": "d72f63c5-581b-4491-daa7-fd1aca04714b"
      },
      "execution_count": 43,
      "outputs": [
        {
          "output_type": "stream",
          "name": "stdout",
          "text": [
            "Prediction Score of KNN Model tested on Testing Set: 0.951048951048951\n"
          ]
        },
        {
          "output_type": "display_data",
          "data": {
            "text/plain": [
              "<Figure size 640x480 with 2 Axes>"
            ],
            "image/png": "[encoded data removed]"
          },
          "metadata": {}
        },
        {
          "output_type": "stream",
          "name": "stdout",
          "text": [
            "None\n"
          ]
        }
      ]
    },
    {
      "cell_type": "markdown",
      "source": [
        "# **Evaluator Function**"
      ],
      "metadata": {
        "id": "csTmrPxS5U1u"
      }
    },
    {
      "cell_type": "code",
      "source": [
        "def knn_evaluator(X, Y, model):\n",
        "    kf = KFold(10, shuffle=True, random_state=1)\n",
        "    pred = np.array([])\n",
        "    actual = np.array([])\n",
        "    accuracy = np.array([])\n",
        "    precision = np.array([])\n",
        "    recall = np.array([])\n",
        "    for train, test in kf.split(X):\n",
        "        x_train, y_train, x_test, y_test = X[train], Y[train], X[test], Y[test]\n",
        "        model.fit(x_train, y_train)\n",
        "        pred_i = model.predict(x_test)\n",
        "        pred = np.append(pred, pred_i)\n",
        "        actual = np.append(actual, y_test)\n",
        "        accuracy = np.append(accuracy, [accuracy_score(y_test, pred_i)])\n",
        "        precision = np.append(precision, [precision_score(y_test, pred_i)])\n",
        "        recall = np.append(recall, [recall_score(y_test, pred_i)])\n",
        "    return pred, actual, accuracy, precision, recall"
      ],
      "metadata": {
        "id": "--jAGcNL5Zrt"
      },
      "execution_count": 36,
      "outputs": []
    },
    {
      "cell_type": "markdown",
      "source": [
        "When you run the code below, you will get the Confusion Matrix after 10-Fold Cross Validation as well as the average metric scores:"
      ],
      "metadata": {
        "id": "dOAISDgkjzsm"
      }
    },
    {
      "cell_type": "code",
      "source": [
        "pred_knn, actual_knn, accuracy_knn, precision_knn, recall_knn = knn_evaluator(X_train, Y_train, knn)\n",
        "\n",
        "print(visualise_cm(pred_knn, actual_knn))\n",
        "print(\"Average Accuracy Score after 10-fold Cross Validation for KNN:\", accuracy_knn.mean())\n",
        "print(\"Average Precision Score after 10-fold Cross Validation for KNN:\", precision_knn.mean())\n",
        "print(\"Average Recall Score after 10-fold Cross Validation for KNN:\", recall_knn.mean())"
      ],
      "metadata": {
        "colab": {
          "base_uri": "https://localhost:8080/",
          "height": 518
        },
        "id": "oOd1OQ51j11h",
        "outputId": "500bae49-3a52-487e-993e-e95dc30b88a7"
      },
      "execution_count": 37,
      "outputs": [
        {
          "output_type": "display_data",
          "data": {
            "text/plain": [
              "<Figure size 640x480 with 2 Axes>"
            ],
            "image/png": "[encoded data removed]"
          },
          "metadata": {}
        },
        {
          "output_type": "stream",
          "name": "stdout",
          "text": [
            "None\n",
            "Average Accuracy Score after 10-fold Cross Validation for KNN: 0.9318936877076412\n",
            "Average Precision Score after 10-fold Cross Validation for KNN: 0.9496572506440927\n",
            "Average Recall Score after 10-fold Cross Validation for KNN: 0.8628250185487026\n"
          ]
        }
      ]
    },
    {
      "cell_type": "markdown",
      "source": [
        "# **Neural Network Model**"
      ],
      "metadata": {
        "id": "ikPynjY0j6YR"
      }
    },
    {
      "cell_type": "markdown",
      "source": [
        "When you run the code below, the keras neural network model will be implemented."
      ],
      "metadata": {
        "id": "82OsU5XWj8R-"
      }
    },
    {
      "cell_type": "code",
      "source": [
        "nn_model = keras.models.Sequential()\n",
        "nn_model.add(keras.layers.InputLayer(input_shape = [9]))\n",
        "nn_model.add(keras.layers.Dense(30,activation = 'relu'))\n",
        "nn_model.add(keras.layers.Dense(1,activation = 'sigmoid'))\n",
        "nn_model.compile(loss = 'mean_squared_error',optimizer = 'adam',metrics = ['accuracy'])\n",
        "\n",
        "nn_model.fit(X_train, Y_train, batch_size=1, epochs=10, verbose=0)"
      ],
      "metadata": {
        "colab": {
          "base_uri": "https://localhost:8080/"
        },
        "id": "2X_O9Rvkj-c2",
        "outputId": "a234418a-d149-4a7c-fde1-fedd342181ec"
      },
      "execution_count": 38,
      "outputs": [
        {
          "output_type": "execute_result",
          "data": {
            "text/plain": [
              "<keras.callbacks.History at 0x7f7c95e13dc0>"
            ]
          },
          "metadata": {},
          "execution_count": 38
        }
      ]
    },
    {
      "cell_type": "markdown",
      "source": [
        "When you run the code below, the model is tested on the testing set and shows the visual representation of the confusion matrix as well as the prediction score:"
      ],
      "metadata": {
        "id": "lxkqhm2i4bi7"
      }
    },
    {
      "cell_type": "code",
      "source": [
        "nn_pred = nn_model.predict(X_test)>0.5\n",
        "print(\"Prediction Score of Neural Network Model tested on Testing Set:\", accuracy_score(Y_test, nn_pred))\n",
        "print(visualise_cm(nn_pred, Y_test))"
      ],
      "metadata": {
        "colab": {
          "base_uri": "https://localhost:8080/",
          "height": 501
        },
        "id": "YUXwImg44lFM",
        "outputId": "bc8130a3-56d0-42cc-fb16-978d46cfa861"
      },
      "execution_count": 42,
      "outputs": [
        {
          "output_type": "stream",
          "name": "stdout",
          "text": [
            "5/5 [==============================] - 0s 17ms/step\n",
            "Prediction Score of Neural Network Model tested on Testing Set: 0.951048951048951\n"
          ]
        },
        {
          "output_type": "display_data",
          "data": {
            "text/plain": [
              "<Figure size 640x480 with 2 Axes>"
            ],
            "image/png": "[encoded data removed]"
          },
          "metadata": {}
        },
        {
          "output_type": "stream",
          "name": "stdout",
          "text": [
            "None\n"
          ]
        }
      ]
    },
    {
      "cell_type": "markdown",
      "source": [
        "# **Evaluator Function**"
      ],
      "metadata": {
        "id": "6xFHsotw4IzH"
      }
    },
    {
      "cell_type": "code",
      "source": [
        "def nn_evaluator(X, Y, model):\n",
        "    kf = KFold(10, shuffle=True, random_state=1)\n",
        "    pred = np.array([])\n",
        "    actual = np.array([])\n",
        "    accuracy = np.array([])\n",
        "    precision = np.array([])\n",
        "    recall = np.array([])\n",
        "    for train, test in kf.split(X):\n",
        "        x_train, y_train, x_test, y_test = X[train], Y[train], X[test], Y[test]\n",
        "        model.fit(x_train,y_train,batch_size = 1,epochs = 10,verbose = 0)\n",
        "        pred_i = model.predict(x_test) > 0.5\n",
        "        pred = np.append(pred, pred_i)\n",
        "        actual = np.append(actual, y_test)\n",
        "        accuracy = np.append(accuracy, [accuracy_score(y_test, pred_i)])\n",
        "        precision = np.append(precision, [precision_score(y_test, pred_i)])\n",
        "        recall = np.append(recall, [recall_score(y_test, pred_i)])\n",
        "    return pred, actual, accuracy, precision, recall"
      ],
      "metadata": {
        "id": "g35EJSus4JjG"
      },
      "execution_count": null,
      "outputs": []
    },
    {
      "cell_type": "markdown",
      "source": [
        "When you run the code below, you will get the Confusion Matrix after 10-Fold Cross Validation as well as the average metric scores:"
      ],
      "metadata": {
        "id": "40h4I58IkALu"
      }
    },
    {
      "cell_type": "code",
      "source": [
        "pred_nn, actual_nn, accuracy_nn, precision_nn, recall_nn = nn_evaluator(X_train, Y_train, nn_model)\n",
        "\n",
        "print(visualise_cm(pred_nn, actual_nn))\n",
        "print(\"Average Accuracy Score after 10-fold Cross Validation for NN:\", accuracy_nn.mean())\n",
        "print(\"Average Precision Score after 10-fold Cross Validation for NN:\", precision_nn.mean())\n",
        "print(\"Average Recall Score after 10-fold Cross Validation for NN:\", recall_nn.mean())"
      ],
      "metadata": {
        "colab": {
          "base_uri": "https://localhost:8080/",
          "height": 693
        },
        "id": "fXaTMpt5kE4K",
        "outputId": "e2ee55ce-59a8-47b4-cf0a-18dd66cb3a6e"
      },
      "execution_count": 14,
      "outputs": [
        {
          "output_type": "stream",
          "name": "stdout",
          "text": [
            "2/2 [==============================] - 0s 9ms/step\n",
            "2/2 [==============================] - 0s 9ms/step\n",
            "2/2 [==============================] - 0s 7ms/step\n",
            "2/2 [==============================] - 0s 7ms/step\n",
            "2/2 [==============================] - 0s 4ms/step\n",
            "2/2 [==============================] - 0s 12ms/step\n",
            "2/2 [==============================] - 0s 7ms/step\n",
            "2/2 [==============================] - 0s 7ms/step\n",
            "2/2 [==============================] - 0s 7ms/step\n",
            "2/2 [==============================] - 0s 8ms/step\n"
          ]
        },
        {
          "output_type": "display_data",
          "data": {
            "text/plain": [
              "<Figure size 640x480 with 2 Axes>"
            ],
            "image/png": "[encoded data removed]"
          },
          "metadata": {}
        },
        {
          "output_type": "stream",
          "name": "stdout",
          "text": [
            "None\n",
            "Average Accuracy Score after 10-fold Cross Validation for NN: 0.9771303258145363\n",
            "Average Precision Score after 10-fold Cross Validation for NN: 0.9906926406926407\n",
            "Average Recall Score after 10-fold Cross Validation for NN: 0.9490326607031412\n"
          ]
        }
      ]
    }
  ]
}